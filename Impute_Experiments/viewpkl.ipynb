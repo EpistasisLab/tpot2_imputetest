{
 "cells": [
  {
   "cell_type": "code",
   "execution_count": 1,
   "metadata": {},
   "outputs": [],
   "source": [
    "import tpot2\n",
    "import dill as pickle\n",
    "import pandas as pd"
   ]
  },
  {
   "cell_type": "code",
   "execution_count": 10,
   "metadata": {},
   "outputs": [
    {
     "name": "stdout",
     "output_type": "stream",
     "text": [
      "14953MAR_0.01/ failed\n",
      "14953MAR_0.1/ failed\n",
      "14953MAR_0.3/ failed\n",
      "14953MAR_0.5/ failed\n",
      "14953MAR_0.9/ failed\n",
      "14953MCAR_0.01/ failed\n",
      "14953MCAR_0.1/ failed\n",
      "14953MCAR_0.3/ failed\n",
      "14953MCAR_0.5/ failed\n",
      "14953MCAR_0.9/ failed\n",
      "14953MNAR_0.01/ failed\n",
      "14953MNAR_0.1/ failed\n",
      "14953MNAR_0.3/ failed\n",
      "14953MNAR_0.5/ failed\n",
      "14953MNAR_0.9/ failed\n",
      "14953MAR_0.01/ failed\n",
      "14953MAR_0.1/ failed\n",
      "14953MAR_0.3/ failed\n",
      "14953MAR_0.5/ failed\n",
      "14953MAR_0.9/ failed\n",
      "14953MCAR_0.01/ failed\n",
      "14953MCAR_0.1/ failed\n",
      "14953MCAR_0.3/ failed\n",
      "14953MCAR_0.5/ failed\n",
      "14953MCAR_0.9/ failed\n",
      "14953MNAR_0.01/ failed\n",
      "14953MNAR_0.1/ failed\n",
      "14953MNAR_0.3/ failed\n",
      "14953MNAR_0.5/ failed\n",
      "14953MNAR_0.9/ failed\n"
     ]
    }
   ],
   "source": [
    "for taskid in ['14953']:\n",
    "    fileoutput = '/common/ketrong/AutoImputeExp/tpot2_imputetest/Impute_Experiments/data/'\n",
    "    csvout = pd.DataFrame(columns=['Exp1ImputeRMSE','Exp2ImputeModel','Exp2train_auroc','Exp2train_acc', \n",
    "                                   'Exp2train_bal_acc', 'Exp2train_logloss', 'Exp2test_auroc', 'Exp2test_acc', \n",
    "                                   'Exp2test_bal_acc', 'Exp2test_logloss', 'Exp2impute_auroc', 'Exp2impute_acc', \n",
    "                                   'Exp2impute_bal_acc', 'Exp2impute_logloss', 'Exp2impute_pipe', 'Exp2duration', \n",
    "                                   'Exp3ImputeModel', 'Exp3train_auroc', 'Exp3train_acc', 'Exp3train_bal_acc', \n",
    "                                   'Exp3train_logloss', 'Exp3impute_auroc', 'Exp3impute_acc', 'Exp3impute_bal_acc', \n",
    "                                   'Exp3impute_logloss', 'Exp3impute_pipe', 'Exp3duration'], \n",
    "                            index=['/tpot2_base_normal_MAR_0.01/','/tpot2_base_normal_MAR_0.1/',\n",
    "                                   '/tpot2_base_normal_MAR_0.3/','/tpot2_base_normal_MAR_0.5/',\n",
    "                                     '/tpot2_base_normal_MAR_0.9/','/tpot2_base_normal_MNAR_0.01/',\n",
    "                                     '/tpot2_base_normal_MNAR_0.1/','/tpot2_base_normal_MNAR_0.3/',\n",
    "                                     '/tpot2_base_normal_MNAR_0.5/', '/tpot2_base_normal_MNAR_0.9/',\n",
    "                                     '/tpot2_base_normal_MCAR_0.01/','/tpot2_base_normal_MCAR_0.1/',\n",
    "                                     '/tpot2_base_normal_MCAR_0.3/','/tpot2_base_normal_MCAR_0.5/',\n",
    "                                    '/tpot2_base_normal_MCAR_0.9/','/tpot2_base_imputation_MAR_0.01/','/tpot2_base_imputation_MAR_0.1/',\n",
    "                                   '/tpot2_base_imputation_MAR_0.3/','/tpot2_base_imputation_MAR_0.5/',\n",
    "                                     '/tpot2_base_imputation_MAR_0.9/','/tpot2_base_imputation_MNAR_0.01/',\n",
    "                                     '/tpot2_base_imputation_MNAR_0.1/','/tpot2_base_imputation_MNAR_0.3/',\n",
    "                                     '/tpot2_base_imputation_MNAR_0.5/', '/tpot2_base_imputation_MNAR_0.9/',\n",
    "                                     '/tpot2_base_imputation_MCAR_0.01/','/tpot2_base_imputation_MCAR_0.1/',\n",
    "                                     '/tpot2_base_imputation_MCAR_0.3/','/tpot2_base_imputation_MCAR_0.5/', '/tpot2_base_imputation_MCAR_0.9/'])\n",
    "    #print(csvout)\n",
    "    for exp in ['/tpot2_base_normal_','/tpot2_base_imputation_']:\n",
    "        for item in ['MAR_', 'MCAR_', 'MNAR_']:\n",
    "            for lvl in ['0.01/', '0.1/', '0.3/', '0.5/', '0.9/']:\n",
    "                normalpath = '/common/ketrong/AutoImputeExp/tpot2_imputetest/Impute_Experiments/logs/'+ taskid + exp + item + lvl\n",
    "                imputepath = '/common/ketrong/AutoImputeExp/tpot2_imputetest/Impute_Experiments/logs/'+ taskid + exp + item + lvl\n",
    "                try:\n",
    "                    with open(normalpath + 'all_scores.pkl', 'rb') as file:\n",
    "                        my_object = pickle.load(file)\n",
    "                    with open(normalpath + 'est_fitted_pipeline.pkl', 'rb') as file:\n",
    "                        my_object_pipeline = pickle.load(file)\n",
    "                    with open(imputepath + 'tpot_space_scores.pkl', 'rb') as file:\n",
    "                        my_run = pickle.load(file)\n",
    "                    with open(imputepath + 'tpot_space_fitted_pipeline.pkl', 'rb') as file:\n",
    "                        my_run_pipeline = pickle.load(file)\n",
    "                    csvout.loc[exp+item+lvl] = pd.Series({'Exp1ImputeRMSE': my_object['impute_rmse'] ,'Exp2ImputeModel': str(my_object['impute_space']),'Exp2train_auroc': my_object['train_score']['train_auroc'],'Exp2train_acc': my_object['train_score']['train_accuracy'], \n",
    "                                        'Exp2train_bal_acc': my_object['train_score']['train_balanced_accuracy'], 'Exp2train_logloss': my_object['train_score']['train_logloss'], 'Exp2test_auroc': my_object['ori_test_score']['auroc'], 'Exp2test_acc': my_object['ori_test_score']['accuracy'], \n",
    "                                        'Exp2test_bal_acc': my_object['ori_test_score']['balanced_accuracy'], 'Exp2test_logloss': my_object['ori_test_score']['logloss'], 'Exp2impute_auroc': my_object['imputed_test_score']['auroc'], 'Exp2impute_acc': my_object['imputed_test_score']['accuracy'], \n",
    "                                        'Exp2impute_bal_acc': my_object['imputed_test_score']['balanced_accuracy'], 'Exp2impute_logloss': my_object['imputed_test_score']['logloss'], 'Exp2impute_pipe': my_object_pipeline, 'Exp2duration': my_object['duration'], \n",
    "                                        'Exp3ImputeModel': my_run_pipeline, 'Exp3train_auroc': my_run['train_score']['train_auroc'], 'Exp3train_acc': my_run['train_score']['train_accuracy'], 'Exp3train_bal_acc': my_run['train_score']['train_balanced_accuracy'], \n",
    "                                        'Exp3train_logloss': my_run['train_score']['train_logloss'], 'Exp3impute_auroc': my_run['ori_test_score']['auroc'], 'Exp3impute_acc': my_run['ori_test_score']['accuracy'], 'Exp3impute_bal_acc': my_run['ori_test_score']['balanced_accuracy'], \n",
    "                                        'Exp3impute_logloss': my_run['ori_test_score']['logloss'], 'Exp3impute_pipe': my_run_pipeline, 'Exp3duration': my_run['duration']})\n",
    "                    \n",
    "                except:\n",
    "                    print(taskid+item+lvl+' failed')\n",
    "    output = csvout.to_csv(fileoutput+taskid+'.csv')\n"
   ]
  },
  {
   "cell_type": "code",
   "execution_count": 3,
   "metadata": {},
   "outputs": [
    {
     "name": "stdout",
     "output_type": "stream",
     "text": [
      "['XGBClassifier_1']\n"
     ]
    }
   ],
   "source": [
    "with open('/common/ketrong/AutoImputeExp/tpot2_imputetest/Impute_Experiments/logs/6/tpot2_base_normal_MNAR_0.01/est_fitted_pipeline.pkl', 'rb') as file:\n",
    "    my_object = pickle.load(file)\n",
    "print(my_object)"
   ]
  },
  {
   "cell_type": "code",
   "execution_count": 4,
   "metadata": {},
   "outputs": [
    {
     "name": "stdout",
     "output_type": "stream",
     "text": [
      "{'train_score': {'train_auroc': 1.0, 'train_accuracy': 1.0, 'train_balanced_accuracy': 1.0, 'train_logloss': 0.011686223573622622}, 'ori_test_score': {'auroc': 0.9995933266601083, 'accuracy': 0.9705, 'balanced_accuracy': 0.9702485717220046, 'logloss': 0.11412984738201541}, 'start': 1702750779.9116173, 'taskid': 6, 'exp_name': 'tpot2_base_normal', 'name': 'letter', 'duration': 4151.572978258133, 'run': 11}\n"
     ]
    }
   ],
   "source": [
    "with open('/common/ketrong/AutoImputeExp/tpot2_imputetest/Impute_Experiments/logs/6/tpot2_base_normal_MNAR_0.01/tpot_space_scores.pkl', 'rb') as file:\n",
    "    my_object = pickle.load(file)\n",
    "print(my_object)"
   ]
  },
  {
   "cell_type": "code",
   "execution_count": 5,
   "metadata": {},
   "outputs": [
    {
     "name": "stdout",
     "output_type": "stream",
     "text": [
      "[('XGBClassifier_1', 'SimpleImputer_1')]\n"
     ]
    }
   ],
   "source": [
    "with open('/common/ketrong/AutoImputeExp/tpot2_imputetest/Impute_Experiments/logs/6/tpot2_base_normal_MNAR_0.01/tpot_space_fitted_pipeline.pkl', 'rb') as file:\n",
    "    my_object = pickle.load(file)\n",
    "print(my_object)"
   ]
  },
  {
   "cell_type": "code",
   "execution_count": 6,
   "metadata": {},
   "outputs": [
    {
     "name": "stdout",
     "output_type": "stream",
     "text": [
      "{'impute_rmse': 0.87977319320145, 'impute_space': {'model_name': 'KNNImputer', 'weights': 'uniform', 'keep_empty_features': False}, 'train_score': {'train_auroc': 0.9999417463928642, 'train_accuracy': 0.9905, 'train_balanced_accuracy': 0.9904134701443531, 'train_logloss': 0.044666329695251424}, 'ori_test_score': {'auroc': 0.9998064792303824, 'accuracy': 0.972, 'balanced_accuracy': 0.9716509288561339, 'logloss': 0.10105182744747407}, 'imputed_test_score': {'auroc': 0.9997953733981434, 'accuracy': 0.9705, 'balanced_accuracy': 0.9701687735934057, 'logloss': 0.10356162090088303}, 'start': 1702762183.3388145, 'taskid': 6, 'level': 0.01, 'type': 'MNAR', 'exp_name': 'Imputed_Predictive_Capacity', 'name': 'letter', 'duration': 27930.80730509758, 'run': 11}\n"
     ]
    }
   ],
   "source": [
    "with open('/common/ketrong/AutoImputeExp/tpot2_imputetest/Impute_Experiments/logs/6/tpot2_base_imputation_MNAR_0.01/all_scores.pkl', 'rb') as file:\n",
    "    my_object = pickle.load(file)\n",
    "print(my_object)"
   ]
  },
  {
   "cell_type": "code",
   "execution_count": 7,
   "metadata": {},
   "outputs": [
    {
     "name": "stdout",
     "output_type": "stream",
     "text": [
      "['SVC_1']\n"
     ]
    }
   ],
   "source": [
    "with open('/common/ketrong/AutoImputeExp/tpot2_imputetest/Impute_Experiments/logs/6/tpot2_base_imputation_MNAR_0.01/est_fitted_pipeline.pkl', 'rb') as file:\n",
    "    my_object = pickle.load(file)\n",
    "print(my_object)"
   ]
  },
  {
   "cell_type": "code",
   "execution_count": 8,
   "metadata": {},
   "outputs": [
    {
     "name": "stdout",
     "output_type": "stream",
     "text": [
      "{'train_score': {'train_auroc': 0.9999998397854474, 'train_accuracy': 0.9994444444444445, 'train_balanced_accuracy': 0.999443539193432, 'train_logloss': 0.013223060822600793}, 'ori_test_score': {'auroc': 0.9996197704282438, 'accuracy': 0.962, 'balanced_accuracy': 0.9617736122508881, 'logloss': 0.12855126468358333}, 'start': 1702790159.881875, 'taskid': 6, 'exp_name': 'tpot2_base_imputation', 'name': 'letter', 'duration': 19211.41666150093, 'run': 11}\n"
     ]
    }
   ],
   "source": [
    "with open('/common/ketrong/AutoImputeExp/tpot2_imputetest/Impute_Experiments/logs/6/tpot2_base_imputation_MNAR_0.01/tpot_space_scores.pkl', 'rb') as file:\n",
    "    my_object = pickle.load(file)\n",
    "print(my_object)"
   ]
  },
  {
   "cell_type": "code",
   "execution_count": 9,
   "metadata": {},
   "outputs": [
    {
     "name": "stdout",
     "output_type": "stream",
     "text": [
      "[('XGBClassifier_1', 'RandomForestImputer_1')]\n"
     ]
    }
   ],
   "source": [
    "with open('/common/ketrong/AutoImputeExp/tpot2_imputetest/Impute_Experiments/logs/6/tpot2_base_imputation_MNAR_0.01/tpot_space_fitted_pipeline.pkl', 'rb') as file:\n",
    "    my_object = pickle.load(file)\n",
    "print(my_object)"
   ]
  }
 ],
 "metadata": {
  "kernelspec": {
   "display_name": "tpot2devenv",
   "language": "python",
   "name": "python3"
  },
  "language_info": {
   "codemirror_mode": {
    "name": "ipython",
    "version": 3
   },
   "file_extension": ".py",
   "mimetype": "text/x-python",
   "name": "python",
   "nbconvert_exporter": "python",
   "pygments_lexer": "ipython3",
   "version": "3.10.13"
  }
 },
 "nbformat": 4,
 "nbformat_minor": 2
}
