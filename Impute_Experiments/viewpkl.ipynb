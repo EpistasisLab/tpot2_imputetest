{
 "cells": [
  {
   "cell_type": "code",
   "execution_count": 8,
   "metadata": {},
   "outputs": [],
   "source": [
    "import tpot2\n",
    "import dill as pickle"
   ]
  },
  {
   "cell_type": "code",
   "execution_count": 9,
   "metadata": {},
   "outputs": [
    {
     "name": "stdout",
     "output_type": "stream",
     "text": [
      "{'impute_rmse': 2.3327189988535606, 'impute_space': {'model_name': 'SimpleImputer', 'strategy': 'mean'}, 'train_score': {'train_auroc': 0.9999366213506431, 'train_accuracy': 0.9895555555555555, 'train_balanced_accuracy': 0.9894391382016529, 'train_logloss': 0.04639766040497962}, 'ori_test_score': {'auroc': 0.999799650654174, 'accuracy': 0.973, 'balanced_accuracy': 0.9726575342931192, 'logloss': 0.10183965275421951}, 'imputed_test_score': {'auroc': 0.9927827218767662, 'accuracy': 0.876, 'balanced_accuracy': 0.875282526192181, 'logloss': 0.453249889145634}, 'start': 1702676756.5335305, 'taskid': 6, 'level': 0.1, 'type': 'MAR', 'exp_name': 'Imputed_Predictive_Capacity', 'name': 'letter', 'duration': 25438.936304092407, 'run': 7}\n"
     ]
    }
   ],
   "source": [
    "with open('/common/ketrong/AutoImputeExp/tpot2_imputetest/Impute_Experiments/logs/6/tpot2_base_normal_MAR_0.1/all_scores.pkl', 'rb') as file:\n",
    "    my_object = pickle.load(file)\n",
    "print(my_object)"
   ]
  },
  {
   "cell_type": "code",
   "execution_count": 10,
   "metadata": {},
   "outputs": [
    {
     "name": "stdout",
     "output_type": "stream",
     "text": [
      "['SVC_1']\n"
     ]
    }
   ],
   "source": [
    "with open('/common/ketrong/AutoImputeExp/tpot2_imputetest/Impute_Experiments/logs/6/tpot2_base_normal_MAR_0.1/est_fitted_pipeline.pkl', 'rb') as file:\n",
    "    my_object = pickle.load(file)\n",
    "print(my_object)"
   ]
  },
  {
   "cell_type": "code",
   "execution_count": 11,
   "metadata": {},
   "outputs": [
    {
     "name": "stdout",
     "output_type": "stream",
     "text": [
      "{'train_score': {'train_auroc': 0.9999999233086895, 'train_accuracy': 0.9997222222222222, 'train_balanced_accuracy': 0.9997207826839383, 'train_logloss': 0.03212519916316127}, 'ori_test_score': {'auroc': 0.9966745006597575, 'accuracy': 0.906, 'balanced_accuracy': 0.9055421452963505, 'logloss': 0.33711901026140995}, 'start': 1702702241.149685, 'taskid': 6, 'exp_name': 'tpot2_base_normal', 'name': 'letter', 'duration': 4168.084187030792, 'run': 7}\n"
     ]
    }
   ],
   "source": [
    "with open('/common/ketrong/AutoImputeExp/tpot2_imputetest/Impute_Experiments/logs/6/tpot2_base_normal_MAR_0.1/tpot_space_scores.pkl', 'rb') as file:\n",
    "    my_object = pickle.load(file)\n",
    "print(my_object)"
   ]
  },
  {
   "cell_type": "code",
   "execution_count": 12,
   "metadata": {},
   "outputs": [
    {
     "name": "stdout",
     "output_type": "stream",
     "text": [
      "[('XGBClassifier_1', 'SimpleImputer_1')]\n"
     ]
    }
   ],
   "source": [
    "with open('/common/ketrong/AutoImputeExp/tpot2_imputetest/Impute_Experiments/logs/6/tpot2_base_normal_MAR_0.1/tpot_space_fitted_pipeline.pkl', 'rb') as file:\n",
    "    my_object = pickle.load(file)\n",
    "print(my_object)"
   ]
  },
  {
   "cell_type": "code",
   "execution_count": 13,
   "metadata": {},
   "outputs": [
    {
     "name": "stdout",
     "output_type": "stream",
     "text": [
      "{'impute_rmse': 1.17354680575417, 'impute_space': {'model_name': 'KNNImputer', 'weights': 'distance', 'keep_empty_features': False}, 'train_score': {'train_auroc': 0.9999362724384325, 'train_accuracy': 0.9889444444444444, 'train_balanced_accuracy': 0.9888403841983524, 'train_logloss': 0.04760475106775299}, 'ori_test_score': {'auroc': 0.9998064561632886, 'accuracy': 0.973, 'balanced_accuracy': 0.9726575342931192, 'logloss': 0.10189578774692365}, 'imputed_test_score': {'auroc': 0.9996903932123552, 'accuracy': 0.9695, 'balanced_accuracy': 0.9692044057854757, 'logloss': 0.11596887892866416}, 'start': 1702711623.9635665, 'taskid': 6, 'level': 0.1, 'type': 'MAR', 'exp_name': 'Imputed_Predictive_Capacity', 'name': 'letter', 'duration': 23283.10044145584, 'run': 7}\n"
     ]
    }
   ],
   "source": [
    "with open('/common/ketrong/AutoImputeExp/tpot2_imputetest/Impute_Experiments/logs/6/tpot2_base_imputation_MAR_0.1/all_scores.pkl', 'rb') as file:\n",
    "    my_object = pickle.load(file)\n",
    "print(my_object)"
   ]
  },
  {
   "cell_type": "code",
   "execution_count": 14,
   "metadata": {},
   "outputs": [
    {
     "name": "stdout",
     "output_type": "stream",
     "text": [
      "['SVC_1']\n"
     ]
    }
   ],
   "source": [
    "with open('/common/ketrong/AutoImputeExp/tpot2_imputetest/Impute_Experiments/logs/6/tpot2_base_imputation_MAR_0.1/est_fitted_pipeline.pkl', 'rb') as file:\n",
    "    my_object = pickle.load(file)\n",
    "print(my_object)"
   ]
  },
  {
   "cell_type": "code",
   "execution_count": 16,
   "metadata": {},
   "outputs": [
    {
     "name": "stdout",
     "output_type": "stream",
     "text": [
      "{'train_score': {'train_auroc': 1.0, 'train_accuracy': 1.0, 'train_balanced_accuracy': 1.0, 'train_logloss': 0.012301725131316181}, 'ori_test_score': {'auroc': 0.9996752906357772, 'accuracy': 0.9675, 'balanced_accuracy': 0.9672585360395445, 'logloss': 0.11379292272011035}, 'start': 1702735726.1789172, 'taskid': 6, 'exp_name': 'tpot2_base_imputation', 'name': 'letter', 'duration': 3672.824961423874, 'run': 6}\n"
     ]
    }
   ],
   "source": [
    "with open('/common/ketrong/AutoImputeExp/tpot2_imputetest/Impute_Experiments/logs/6/tpot2_base_imputation_MAR_0.01/tpot_space_scores.pkl', 'rb') as file:\n",
    "    my_object = pickle.load(file)\n",
    "print(my_object)"
   ]
  },
  {
   "cell_type": "code",
   "execution_count": 18,
   "metadata": {},
   "outputs": [
    {
     "name": "stdout",
     "output_type": "stream",
     "text": [
      "[('XGBClassifier_1', 'SimpleImputer_1')]\n"
     ]
    }
   ],
   "source": [
    "with open('/common/ketrong/AutoImputeExp/tpot2_imputetest/Impute_Experiments/logs/6/tpot2_base_imputation_MAR_0.01/tpot_space_fitted_pipeline.pkl', 'rb') as file:\n",
    "    my_object = pickle.load(file)\n",
    "print(my_object)"
   ]
  }
 ],
 "metadata": {
  "kernelspec": {
   "display_name": "tpot2devenv",
   "language": "python",
   "name": "python3"
  },
  "language_info": {
   "codemirror_mode": {
    "name": "ipython",
    "version": 3
   },
   "file_extension": ".py",
   "mimetype": "text/x-python",
   "name": "python",
   "nbconvert_exporter": "python",
   "pygments_lexer": "ipython3",
   "version": "3.10.13"
  }
 },
 "nbformat": 4,
 "nbformat_minor": 2
}
