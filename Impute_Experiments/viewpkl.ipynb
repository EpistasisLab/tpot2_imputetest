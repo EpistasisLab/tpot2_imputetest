{
 "cells": [
  {
   "cell_type": "code",
   "execution_count": 134,
   "metadata": {},
   "outputs": [],
   "source": [
    "import tpot2\n",
    "import dill as pickle"
   ]
  },
  {
   "cell_type": "code",
   "execution_count": 135,
   "metadata": {},
   "outputs": [
    {
     "name": "stdout",
     "output_type": "stream",
     "text": [
      "{'impute_rmse': 2.288765048912543, 'impute_space': {'model_name': 'SimpleImputer', 'strategy': 'mean'}, 'train_score': {'train_auroc': 1.0, 'train_accuracy': 1.0, 'train_balanced_accuracy': 1.0, 'train_logloss': 0.010985038312840228}, 'ori_test_score': {'auroc': 0.9997178247160178, 'accuracy': 0.969, 'balanced_accuracy': 0.9687641714253973, 'logloss': 0.10009822497258687}, 'imputed_test_score': {'auroc': 0.9994287728686545, 'accuracy': 0.96, 'balanced_accuracy': 0.9597655571489704, 'logloss': 0.13566666576784958}, 'start': 1702742397.0389786, 'taskid': 6, 'level': 0.01, 'type': 'MNAR', 'exp_name': 'Imputed_Predictive_Capacity', 'name': 'letter', 'duration': 8375.347129583359, 'run': 11}\n"
     ]
    }
   ],
   "source": [
    "with open('/common/ketrong/AutoImputeExp/tpot2_imputetest/Impute_Experiments/logs/6/tpot2_base_normal_MNAR_0.01/all_scores.pkl', 'rb') as file:\n",
    "    my_object = pickle.load(file)\n",
    "print(my_object)"
   ]
  },
  {
   "cell_type": "code",
   "execution_count": 136,
   "metadata": {},
   "outputs": [
    {
     "name": "stdout",
     "output_type": "stream",
     "text": [
      "['XGBClassifier_1']\n"
     ]
    }
   ],
   "source": [
    "with open('/common/ketrong/AutoImputeExp/tpot2_imputetest/Impute_Experiments/logs/6/tpot2_base_normal_MNAR_0.01/est_fitted_pipeline.pkl', 'rb') as file:\n",
    "    my_object = pickle.load(file)\n",
    "print(my_object)"
   ]
  },
  {
   "cell_type": "code",
   "execution_count": 137,
   "metadata": {},
   "outputs": [
    {
     "name": "stdout",
     "output_type": "stream",
     "text": [
      "{'train_score': {'train_auroc': 1.0, 'train_accuracy': 1.0, 'train_balanced_accuracy': 1.0, 'train_logloss': 0.011686223573622622}, 'ori_test_score': {'auroc': 0.9995933266601083, 'accuracy': 0.9705, 'balanced_accuracy': 0.9702485717220046, 'logloss': 0.11412984738201541}, 'start': 1702750779.9116173, 'taskid': 6, 'exp_name': 'tpot2_base_normal', 'name': 'letter', 'duration': 4151.572978258133, 'run': 11}\n"
     ]
    }
   ],
   "source": [
    "with open('/common/ketrong/AutoImputeExp/tpot2_imputetest/Impute_Experiments/logs/6/tpot2_base_normal_MNAR_0.01/tpot_space_scores.pkl', 'rb') as file:\n",
    "    my_object = pickle.load(file)\n",
    "print(my_object)"
   ]
  },
  {
   "cell_type": "code",
   "execution_count": 138,
   "metadata": {},
   "outputs": [
    {
     "name": "stdout",
     "output_type": "stream",
     "text": [
      "[('XGBClassifier_1', 'SimpleImputer_1')]\n"
     ]
    }
   ],
   "source": [
    "with open('/common/ketrong/AutoImputeExp/tpot2_imputetest/Impute_Experiments/logs/6/tpot2_base_normal_MNAR_0.01/tpot_space_fitted_pipeline.pkl', 'rb') as file:\n",
    "    my_object = pickle.load(file)\n",
    "print(my_object)"
   ]
  },
  {
   "cell_type": "code",
   "execution_count": 139,
   "metadata": {},
   "outputs": [
    {
     "name": "stdout",
     "output_type": "stream",
     "text": [
      "{'impute_rmse': 0.87977319320145, 'impute_space': {'model_name': 'KNNImputer', 'weights': 'uniform', 'keep_empty_features': False}, 'train_score': {'train_auroc': 0.9999417463928642, 'train_accuracy': 0.9905, 'train_balanced_accuracy': 0.9904134701443531, 'train_logloss': 0.044666329695251424}, 'ori_test_score': {'auroc': 0.9998064792303824, 'accuracy': 0.972, 'balanced_accuracy': 0.9716509288561339, 'logloss': 0.10105182744747407}, 'imputed_test_score': {'auroc': 0.9997953733981434, 'accuracy': 0.9705, 'balanced_accuracy': 0.9701687735934057, 'logloss': 0.10356162090088303}, 'start': 1702762183.3388145, 'taskid': 6, 'level': 0.01, 'type': 'MNAR', 'exp_name': 'Imputed_Predictive_Capacity', 'name': 'letter', 'duration': 27930.80730509758, 'run': 11}\n"
     ]
    }
   ],
   "source": [
    "with open('/common/ketrong/AutoImputeExp/tpot2_imputetest/Impute_Experiments/logs/6/tpot2_base_imputation_MNAR_0.01/all_scores.pkl', 'rb') as file:\n",
    "    my_object = pickle.load(file)\n",
    "print(my_object)"
   ]
  },
  {
   "cell_type": "code",
   "execution_count": 140,
   "metadata": {},
   "outputs": [
    {
     "name": "stdout",
     "output_type": "stream",
     "text": [
      "['SVC_1']\n"
     ]
    }
   ],
   "source": [
    "with open('/common/ketrong/AutoImputeExp/tpot2_imputetest/Impute_Experiments/logs/6/tpot2_base_imputation_MNAR_0.01/est_fitted_pipeline.pkl', 'rb') as file:\n",
    "    my_object = pickle.load(file)\n",
    "print(my_object)"
   ]
  },
  {
   "cell_type": "code",
   "execution_count": 141,
   "metadata": {},
   "outputs": [
    {
     "name": "stdout",
     "output_type": "stream",
     "text": [
      "{'train_score': {'train_auroc': 0.9999998397854474, 'train_accuracy': 0.9994444444444445, 'train_balanced_accuracy': 0.999443539193432, 'train_logloss': 0.013223060822600793}, 'ori_test_score': {'auroc': 0.9996197704282438, 'accuracy': 0.962, 'balanced_accuracy': 0.9617736122508881, 'logloss': 0.12855126468358333}, 'start': 1702790159.881875, 'taskid': 6, 'exp_name': 'tpot2_base_imputation', 'name': 'letter', 'duration': 19211.41666150093, 'run': 11}\n"
     ]
    }
   ],
   "source": [
    "with open('/common/ketrong/AutoImputeExp/tpot2_imputetest/Impute_Experiments/logs/6/tpot2_base_imputation_MNAR_0.01/tpot_space_scores.pkl', 'rb') as file:\n",
    "    my_object = pickle.load(file)\n",
    "print(my_object)"
   ]
  },
  {
   "cell_type": "code",
   "execution_count": 142,
   "metadata": {},
   "outputs": [
    {
     "name": "stdout",
     "output_type": "stream",
     "text": [
      "[('XGBClassifier_1', 'RandomForestImputer_1')]\n"
     ]
    }
   ],
   "source": [
    "with open('/common/ketrong/AutoImputeExp/tpot2_imputetest/Impute_Experiments/logs/6/tpot2_base_imputation_MNAR_0.01/tpot_space_fitted_pipeline.pkl', 'rb') as file:\n",
    "    my_object = pickle.load(file)\n",
    "print(my_object)"
   ]
  }
 ],
 "metadata": {
  "kernelspec": {
   "display_name": "tpot2devenv",
   "language": "python",
   "name": "python3"
  },
  "language_info": {
   "codemirror_mode": {
    "name": "ipython",
    "version": 3
   },
   "file_extension": ".py",
   "mimetype": "text/x-python",
   "name": "python",
   "nbconvert_exporter": "python",
   "pygments_lexer": "ipython3",
   "version": "3.10.13"
  }
 },
 "nbformat": 4,
 "nbformat_minor": 2
}
