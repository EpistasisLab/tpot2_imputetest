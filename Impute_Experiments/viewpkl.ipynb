{
 "cells": [
  {
   "cell_type": "code",
   "execution_count": 21,
   "metadata": {},
   "outputs": [],
   "source": [
    "import tpot2\n",
    "import dill as pickle\n",
    "import pandas as pd"
   ]
  },
  {
   "cell_type": "code",
   "execution_count": 22,
   "metadata": {},
   "outputs": [
    {
     "data": {
      "text/plain": [
       "\"\\n'2306', '2309', '2288', '2289', '2307', '359935','7320', '7323', '233211', '359938', '317615'\\n\""
      ]
     },
     "execution_count": 22,
     "metadata": {},
     "output_type": "execute_result"
    }
   ],
   "source": [
    "'''\n",
    "'6', '26', '30', '32', '2142', '14953', '206', '219','2075', '2076', '2280',\n",
    "                    '3483', '3510', '3591', '3594', '3603', '3668', '3688', '3712', '3735',\n",
    "                    '3745', '3764', '3786', '3899', '3954', '7295', '14964', '9983', '9972',\n",
    "                    '9952', '9959', '9943', '9942', '9899', '34539', '167120', '145943', '145681'\n",
    "'''\n",
    "\"\"\"\n",
    "'2306', '2309', '2288', '2289', '2307', '359935','7320', '7323', '233211', '359938', '317615'\n",
    "\"\"\""
   ]
  },
  {
   "cell_type": "code",
   "execution_count": 23,
   "metadata": {},
   "outputs": [
    {
     "name": "stdout",
     "output_type": "stream",
     "text": [
      "233211MAR_0.1/ failed\n",
      "233211MAR_0.3/ failed\n",
      "233211MNAR_0.01/ failed\n",
      "233211MNAR_0.9/ failed\n",
      "233211MAR_0.1/ failed\n",
      "233211MAR_0.3/ failed\n",
      "233211MNAR_0.01/ failed\n",
      "233211MNAR_0.5/ failed\n",
      "233211MNAR_0.9/ failed\n",
      "317615MAR_0.01/ failed\n",
      "317615MAR_0.1/ failed\n",
      "317615MAR_0.3/ failed\n",
      "317615MAR_0.5/ failed\n",
      "317615MAR_0.9/ failed\n",
      "317615MCAR_0.01/ failed\n",
      "317615MCAR_0.1/ failed\n",
      "317615MCAR_0.3/ failed\n",
      "317615MCAR_0.5/ failed\n",
      "317615MCAR_0.9/ failed\n",
      "317615MNAR_0.01/ failed\n",
      "317615MNAR_0.1/ failed\n",
      "317615MNAR_0.3/ failed\n",
      "317615MNAR_0.5/ failed\n",
      "317615MNAR_0.9/ failed\n",
      "317615MAR_0.01/ failed\n",
      "317615MAR_0.1/ failed\n",
      "317615MAR_0.3/ failed\n",
      "317615MAR_0.5/ failed\n",
      "317615MAR_0.9/ failed\n",
      "317615MCAR_0.01/ failed\n",
      "317615MCAR_0.1/ failed\n",
      "317615MCAR_0.3/ failed\n",
      "317615MCAR_0.5/ failed\n",
      "317615MCAR_0.9/ failed\n",
      "317615MNAR_0.01/ failed\n",
      "317615MNAR_0.1/ failed\n",
      "317615MNAR_0.3/ failed\n",
      "317615MNAR_0.5/ failed\n",
      "317615MNAR_0.9/ failed\n"
     ]
    }
   ],
   "source": [
    "for taskid in ['2306', '2309', '2288', '2289', '2307', '359935','7320', '7323', '233211', '359938', '317615']:\n",
    "    fileoutput = '/common/ketrong/AutoImputeExp/tpot2_imputetest/Impute_Experiments/regression_data/'\n",
    "    csvout = pd.DataFrame(columns=['Exp1ImputeRMSE','Exp2ImputeModel','Exp2train_explained_var','Exp2train_r2', \n",
    "                                   'Exp2train_rmse', 'Exp2test_explained_var', 'Exp2test_r2', \n",
    "                                   'Exp2test_rmse', 'Exp2impute_explained_var', 'Exp2impute_r2', \n",
    "                                   'Exp2impute_rmse', 'Exp2impute_pipe', 'Exp2duration', \n",
    "                                   'Exp3ImputeModel', 'Exp3train_explained_var', 'Exp3train_r2', 'Exp3train_rmse', \n",
    "                                   'Exp3impute_explained_var', 'Exp3impute_r2', 'Exp3impute_rmse', \n",
    "                                   'Exp3impute_pipe', 'Exp3duration'], \n",
    "                            index=['/tpot2_base_normal_MAR_0.01/','/tpot2_base_normal_MAR_0.1/',\n",
    "                                   '/tpot2_base_normal_MAR_0.3/','/tpot2_base_normal_MAR_0.5/',\n",
    "                                     '/tpot2_base_normal_MAR_0.9/','/tpot2_base_normal_MNAR_0.01/',\n",
    "                                     '/tpot2_base_normal_MNAR_0.1/','/tpot2_base_normal_MNAR_0.3/',\n",
    "                                     '/tpot2_base_normal_MNAR_0.5/', '/tpot2_base_normal_MNAR_0.9/',\n",
    "                                     '/tpot2_base_normal_MCAR_0.01/','/tpot2_base_normal_MCAR_0.1/',\n",
    "                                     '/tpot2_base_normal_MCAR_0.3/','/tpot2_base_normal_MCAR_0.5/',\n",
    "                                    '/tpot2_base_normal_MCAR_0.9/','/tpot2_base_imputation_MAR_0.01/','/tpot2_base_imputation_MAR_0.1/',\n",
    "                                   '/tpot2_base_imputation_MAR_0.3/','/tpot2_base_imputation_MAR_0.5/',\n",
    "                                     '/tpot2_base_imputation_MAR_0.9/','/tpot2_base_imputation_MNAR_0.01/',\n",
    "                                     '/tpot2_base_imputation_MNAR_0.1/','/tpot2_base_imputation_MNAR_0.3/',\n",
    "                                     '/tpot2_base_imputation_MNAR_0.5/', '/tpot2_base_imputation_MNAR_0.9/',\n",
    "                                     '/tpot2_base_imputation_MCAR_0.01/','/tpot2_base_imputation_MCAR_0.1/',\n",
    "                                     '/tpot2_base_imputation_MCAR_0.3/','/tpot2_base_imputation_MCAR_0.5/', '/tpot2_base_imputation_MCAR_0.9/'])\n",
    "    #print(csvout)\n",
    "    for exp in ['/tpot2_base_normal_','/tpot2_base_imputation_']:\n",
    "        for item in ['MAR_', 'MCAR_', 'MNAR_']:\n",
    "            for lvl in ['0.01/', '0.1/', '0.3/', '0.5/', '0.9/']:\n",
    "                normalpath = '/common/ketrong/AutoImputeExp/tpot2_imputetest/Impute_Experiments/logs/'+ taskid + exp + item + lvl\n",
    "                imputepath = '/common/ketrong/AutoImputeExp/tpot2_imputetest/Impute_Experiments/logs/'+ taskid + exp + item + lvl\n",
    "                \n",
    "                try:\n",
    "                    with open(normalpath + 'all_scores.pkl', 'rb') as file:\n",
    "                        my_object = pickle.load(file)\n",
    "                        #print(my_object)\n",
    "                    with open(normalpath + 'est_fitted_pipeline.pkl', 'rb') as file:\n",
    "                        my_object_pipeline = pickle.load(file)\n",
    "                    with open(imputepath + 'tpot_space_scores.pkl', 'rb') as file:\n",
    "                        my_run = pickle.load(file)\n",
    "                        #print(my_run)\n",
    "                    with open(imputepath + 'tpot_space_fitted_pipeline.pkl', 'rb') as file:\n",
    "                        my_run_pipeline = pickle.load(file)\n",
    "                    csvout.loc[exp+item+lvl] = pd.Series({'Exp1ImputeRMSE': my_object['impute_rmse'] ,'Exp2ImputeModel': str(my_object['impute_space']),'Exp2train_explained_var': my_object['train_score']['train_explained_var'],'Exp2train_r2': my_object['train_score']['train_r2'], \n",
    "                                        'Exp2train_rmse': my_object['train_score']['train_rmse'], 'Exp2test_explained_var': my_object['ori_test_score']['explained_var'], 'Exp2test_r2': my_object['ori_test_score']['r2'], \n",
    "                                        'Exp2test_rmse': my_object['ori_test_score']['rmse'], 'Exp2impute_explained_var': my_object['imputed_test_score']['explained_var'], 'Exp2impute_r2': my_object['imputed_test_score']['r2'], \n",
    "                                        'Exp2impute_rmse': my_object['imputed_test_score']['rmse'], 'Exp2impute_pipe': my_object_pipeline, 'Exp2duration': my_object['duration'], \n",
    "                                        'Exp3ImputeModel': my_run_pipeline, 'Exp3train_explained_var': my_run['train_score']['train_explained_var'], 'Exp3train_r2': my_run['train_score']['train_r2'], 'Exp3train_rmse': my_run['train_score']['train_rmse'], \n",
    "                                        'Exp3impute_explained_var': my_run['ori_test_score']['explained_var'], 'Exp3impute_r2': my_run['ori_test_score']['r2'], 'Exp3impute_rmse': my_run['ori_test_score']['rmse'], \n",
    "                                        'Exp3impute_pipe': my_run_pipeline, 'Exp3duration': my_run['duration']})\n",
    "                    \n",
    "                except:\n",
    "                    print(taskid+item+lvl+' failed')\n",
    "    output = csvout.to_csv(fileoutput+taskid+'.csv')\n"
   ]
  },
  {
   "cell_type": "code",
   "execution_count": 24,
   "metadata": {},
   "outputs": [
    {
     "name": "stdout",
     "output_type": "stream",
     "text": [
      "['XGBClassifier_1']\n"
     ]
    }
   ],
   "source": [
    "with open('/common/ketrong/AutoImputeExp/tpot2_imputetest/Impute_Experiments/logs/6/tpot2_base_normal_MNAR_0.01/est_fitted_pipeline.pkl', 'rb') as file:\n",
    "    my_object = pickle.load(file)\n",
    "print(my_object)"
   ]
  },
  {
   "cell_type": "code",
   "execution_count": 25,
   "metadata": {},
   "outputs": [
    {
     "name": "stdout",
     "output_type": "stream",
     "text": [
      "{'train_score': {'train_auroc': 1.0, 'train_accuracy': 1.0, 'train_balanced_accuracy': 1.0, 'train_logloss': 0.011686223573622622}, 'ori_test_score': {'auroc': 0.9995933266601083, 'accuracy': 0.9705, 'balanced_accuracy': 0.9702485717220046, 'logloss': 0.11412984738201541}, 'start': 1702750779.9116173, 'taskid': 6, 'exp_name': 'tpot2_base_normal', 'name': 'letter', 'duration': 4151.572978258133, 'run': 11}\n"
     ]
    }
   ],
   "source": [
    "with open('/common/ketrong/AutoImputeExp/tpot2_imputetest/Impute_Experiments/logs/6/tpot2_base_normal_MNAR_0.01/tpot_space_scores.pkl', 'rb') as file:\n",
    "    my_object = pickle.load(file)\n",
    "print(my_object)"
   ]
  },
  {
   "cell_type": "code",
   "execution_count": 26,
   "metadata": {},
   "outputs": [
    {
     "name": "stdout",
     "output_type": "stream",
     "text": [
      "[('XGBClassifier_1', 'SimpleImputer_1')]\n"
     ]
    }
   ],
   "source": [
    "with open('/common/ketrong/AutoImputeExp/tpot2_imputetest/Impute_Experiments/logs/6/tpot2_base_normal_MNAR_0.01/tpot_space_fitted_pipeline.pkl', 'rb') as file:\n",
    "    my_object = pickle.load(file)\n",
    "print(my_object)"
   ]
  },
  {
   "cell_type": "code",
   "execution_count": 27,
   "metadata": {},
   "outputs": [
    {
     "name": "stdout",
     "output_type": "stream",
     "text": [
      "{'impute_rmse': 0.87977319320145, 'impute_space': {'model_name': 'KNNImputer', 'weights': 'uniform', 'keep_empty_features': False}, 'train_score': {'train_auroc': 0.9999417463928642, 'train_accuracy': 0.9905, 'train_balanced_accuracy': 0.9904134701443531, 'train_logloss': 0.044666329695251424}, 'ori_test_score': {'auroc': 0.9998064792303824, 'accuracy': 0.972, 'balanced_accuracy': 0.9716509288561339, 'logloss': 0.10105182744747407}, 'imputed_test_score': {'auroc': 0.9997953733981434, 'accuracy': 0.9705, 'balanced_accuracy': 0.9701687735934057, 'logloss': 0.10356162090088303}, 'start': 1702762183.3388145, 'taskid': 6, 'level': 0.01, 'type': 'MNAR', 'exp_name': 'Imputed_Predictive_Capacity', 'name': 'letter', 'duration': 27930.80730509758, 'run': 11}\n"
     ]
    }
   ],
   "source": [
    "with open('/common/ketrong/AutoImputeExp/tpot2_imputetest/Impute_Experiments/logs/6/tpot2_base_imputation_MNAR_0.01/all_scores.pkl', 'rb') as file:\n",
    "    my_object = pickle.load(file)\n",
    "print(my_object)"
   ]
  },
  {
   "cell_type": "code",
   "execution_count": 28,
   "metadata": {},
   "outputs": [
    {
     "name": "stdout",
     "output_type": "stream",
     "text": [
      "['SVC_1']\n"
     ]
    }
   ],
   "source": [
    "with open('/common/ketrong/AutoImputeExp/tpot2_imputetest/Impute_Experiments/logs/6/tpot2_base_imputation_MNAR_0.01/est_fitted_pipeline.pkl', 'rb') as file:\n",
    "    my_object = pickle.load(file)\n",
    "print(my_object)"
   ]
  },
  {
   "cell_type": "code",
   "execution_count": 29,
   "metadata": {},
   "outputs": [
    {
     "name": "stdout",
     "output_type": "stream",
     "text": [
      "{'train_score': {'train_auroc': 0.9999998397854474, 'train_accuracy': 0.9994444444444445, 'train_balanced_accuracy': 0.999443539193432, 'train_logloss': 0.013223060822600793}, 'ori_test_score': {'auroc': 0.9996197704282438, 'accuracy': 0.962, 'balanced_accuracy': 0.9617736122508881, 'logloss': 0.12855126468358333}, 'start': 1702790159.881875, 'taskid': 6, 'exp_name': 'tpot2_base_imputation', 'name': 'letter', 'duration': 19211.41666150093, 'run': 11}\n"
     ]
    }
   ],
   "source": [
    "with open('/common/ketrong/AutoImputeExp/tpot2_imputetest/Impute_Experiments/logs/6/tpot2_base_imputation_MNAR_0.01/tpot_space_scores.pkl', 'rb') as file:\n",
    "    my_object = pickle.load(file)\n",
    "print(my_object)"
   ]
  },
  {
   "cell_type": "code",
   "execution_count": 30,
   "metadata": {},
   "outputs": [
    {
     "name": "stdout",
     "output_type": "stream",
     "text": [
      "[('XGBClassifier_1', 'RandomForestImputer_1')]\n"
     ]
    }
   ],
   "source": [
    "with open('/common/ketrong/AutoImputeExp/tpot2_imputetest/Impute_Experiments/logs/6/tpot2_base_imputation_MNAR_0.01/tpot_space_fitted_pipeline.pkl', 'rb') as file:\n",
    "    my_object = pickle.load(file)\n",
    "print(my_object)"
   ]
  }
 ],
 "metadata": {
  "kernelspec": {
   "display_name": "tpot2devenv",
   "language": "python",
   "name": "python3"
  },
  "language_info": {
   "codemirror_mode": {
    "name": "ipython",
    "version": 3
   },
   "file_extension": ".py",
   "mimetype": "text/x-python",
   "name": "python",
   "nbconvert_exporter": "python",
   "pygments_lexer": "ipython3",
   "version": "3.10.13"
  }
 },
 "nbformat": 4,
 "nbformat_minor": 2
}
